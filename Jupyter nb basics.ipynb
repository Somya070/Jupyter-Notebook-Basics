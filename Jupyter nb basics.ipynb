{
 "cells": [
  {
   "cell_type": "markdown",
   "id": "79ecf889-47ef-44cd-a9fd-6869907cd2c7",
   "metadata": {},
   "source": [
    "# JUPYTER NOTEBOOK BEGINER TO ADVANCED"
   ]
  },
  {
   "cell_type": "markdown",
   "id": "2ac63103-d242-43d0-8e4e-c97da0b75901",
   "metadata": {},
   "source": [
    "## 1. What is Jupyter Notebook?\n",
    "\n",
    " It is an interactive environment in which you can write code, run code, visualise and even write notes in it. It Mostly is in .ipynb file format.     Perfect for Data science, ML, aur teaching."
   ]
  },
  {
   "cell_type": "markdown",
   "id": "5806eb7c-395f-4544-a9c4-0dbb09e448be",
   "metadata": {},
   "source": [
    "## 2. Install & Start"
   ]
  },
  {
   "cell_type": "markdown",
   "id": "52a8a294-3894-4089-944c-d37f680ca6df",
   "metadata": {},
   "source": [
    "1. Install: pip install notebook (If using Ananconda : conda install jupyter)\n",
    "2. Run: jupyter notebook"
   ]
  },
  {
   "cell_type": "markdown",
   "id": "4989d80c-237c-49be-a863-81095b38d271",
   "metadata": {},
   "source": [
    "## 3. Notebook Structure\n",
    "\n",
    "1. Cells: Main building blocks.\n",
    "   \n",
    "          Code Cell → Python code likhne ke liye.\n",
    "          Markdown Cell → Text, headings, formulas likhne ke liye.\n",
    "\n",
    "2. Toolbar: Run, stop, restart, cell add/delete, cell type change."
   ]
  },
  {
   "cell_type": "markdown",
   "id": "ac23f546-c003-4d7d-bc4c-1894593bb987",
   "metadata": {},
   "source": [
    "## 4. Modes – Command vs Edit\n",
    "\n",
    "1. Edit Mode: (Green border) Writing inside cell → Enter.\n",
    "\n",
    "2. Command Mode: (Blue border) If controlling Notebook → Press Esc."
   ]
  },
  {
   "cell_type": "markdown",
   "id": "f46a293d-2a2c-4854-b82b-798c43dfe69a",
   "metadata": {},
   "source": [
    "## 5. Most Important Shortcuts\n",
    "\n",
    "1. Shift + Enter :\tCell run + go to next cell\n",
    "2. Ctrl + Enter\t: Cell run + stop there\n",
    "3. Alt + Enter :  Cell run + make new cell below\n",
    "4. A :\tadd cell above\n",
    "5. B :\tAdd cell below\n",
    "6. DD :\tCell delete\n",
    "7. Z : Delete undo\n",
    "8. M : Convert to Markdown\n",
    "9. Y : Convert to Code cell\n",
    "10. H :\tShow all shortcuts list "
   ]
  },
  {
   "cell_type": "markdown",
   "id": "2ee3cc6d-c264-42e5-a2df-89c909d17158",
   "metadata": {},
   "source": [
    "## 6. Markdown Basics (Text Cells)"
   ]
  },
  {
   "cell_type": "raw",
   "id": "1871c83d-985d-4d20-b560-5ac12c2fb45f",
   "metadata": {},
   "source": [
    "Using Markdown, you can make headings, bold text, bullet points, aur math formulas.\n",
    "Example: \n",
    "# Heading 1\n",
    "## Heading 2\n",
    "### Heading 3\n",
    "\n",
    "**Bold text**\n",
    "*Italic text*\n",
    "`Inline code`\n",
    "\n",
    "- Bullet point 1\n",
    "- Bullet point 2\n",
    "\n",
    "1. Numbered list\n",
    "2. Next item\n",
    "\n",
    "[Link text](https://google.com)\n"
   ]
  },
  {
   "cell_type": "markdown",
   "id": "d5fe4403-5338-4efb-b7ab-78d3c205c855",
   "metadata": {},
   "source": [
    "## 7. Python Code Example"
   ]
  },
  {
   "cell_type": "code",
   "execution_count": 2,
   "id": "2a72cffa-cccd-4672-b967-f1c50cf86069",
   "metadata": {},
   "outputs": [
    {
     "name": "stdout",
     "output_type": "stream",
     "text": [
      "Hello, Jupyter!\n",
      "15\n",
      "0\n",
      "1\n",
      "2\n"
     ]
    }
   ],
   "source": [
    "# Print something\n",
    "print(\"Hello, Jupyter!\")\n",
    "\n",
    "# Variable\n",
    "a = 5\n",
    "b = 10\n",
    "print(a + b)\n",
    "\n",
    "# Loop\n",
    "for i in range(3):\n",
    "    print(i)\n"
   ]
  },
  {
   "cell_type": "markdown",
   "id": "1a3b8b01-3bda-449c-945c-ee0f4e888e2b",
   "metadata": {},
   "source": [
    "## 8. Data Visualization in Jupyter"
   ]
  },
  {
   "cell_type": "code",
   "execution_count": 3,
   "id": "a7915fb2-519b-4d71-9d60-3229a592bb10",
   "metadata": {},
   "outputs": [
    {
     "data": {
      "image/png": "[encoded data removed]",
      "text/plain": [
       "<Figure size 640x480 with 1 Axes>"
      ]
     },
     "metadata": {},
     "output_type": "display_data"
    }
   ],
   "source": [
    "import matplotlib.pyplot as plt\n",
    "\n",
    "x = [1, 2, 3]\n",
    "y = [4, 5, 6]\n",
    "\n",
    "plt.plot(x, y)\n",
    "plt.xlabel(\"X Axis\")\n",
    "plt.ylabel(\"Y Axis\")\n",
    "plt.title(\"Simple Plot\")\n",
    "plt.show()\n"
   ]
  },
  {
   "cell_type": "markdown",
   "id": "b8227d6c-9cb4-4fc6-bfaa-1aca73c526b1",
   "metadata": {},
   "source": [
    "## 9. Import & Display Data"
   ]
  },
  {
   "cell_type": "code",
   "execution_count": null,
   "id": "35f62e55-b7ed-4ade-87d0-2697c755cfb9",
   "metadata": {},
   "outputs": [],
   "source": [
    "import pandas as pd\n",
    "\n",
    "df = pd.read_csv(\"data.csv\")\n",
    "df.head()"
   ]
  },
  {
   "cell_type": "markdown",
   "id": "8d0654e0-154e-4a9a-bd0f-b090a176d4bd",
   "metadata": {},
   "source": [
    "## 10. Magic Commands (@special Jupyter features)\n",
    "\n",
    "1. %time → Single line ka execution time check\n",
    "\n",
    "2. %timeit → Multiple runs ka average time\n",
    "\n",
    "3. %matplotlib inline → Graph notebook mein show karna\n",
    "\n",
    "4. !ls → System command run (Linux/Mac)\n",
    "\n",
    "5. !dir → (Windows)\n",
    "\n",
    "6. %pwd → Current working directory"
   ]
  },
  {
   "cell_type": "markdown",
   "id": "e32287ed-2f15-478c-a8d3-8446a8a9c780",
   "metadata": {},
   "source": [
    "## 11. Export Notebook\n",
    "\n",
    "1. File → Download as:\n",
    "\n",
    "- .ipynb → Original\n",
    "\n",
    "- .py → Python script\n",
    "\n",
    "- .html → Static view"
   ]
  },
  {
   "cell_type": "markdown",
   "id": "e462d692-d3f6-4369-845b-91d693de208c",
   "metadata": {},
   "source": [
    "## 12. Best Practices\n",
    "\n",
    "1. Keep code in small, manageable cells.\n",
    "\n",
    "2. Add explanations in Markdown cells.\n",
    "\n",
    "3. Keep the output clean (remove unnecessary print statements).\n",
    "\n",
    "4. Give the notebook a meaningful name."
   ]
  },
  {
   "cell_type": "markdown",
   "id": "6848d6cf-8384-43ad-bd65-bc907f7e760d",
   "metadata": {},
   "source": [
    "## 13. Using nbconvert from Terminal\n",
    "\n",
    "- Convert without opening Jupyter:\n",
    "\n",
    "1. jupyter nbconvert my_notebook.ipynb --to html\n",
    "2. jupyter nbconvert my_notebook.ipynb --to pdf"
   ]
  }
 ],
 "metadata": {
  "kernelspec": {
   "display_name": "Python 3 (ipykernel)",
   "language": "python",
   "name": "python3"
  },
  "language_info": {
   "codemirror_mode": {
    "name": "ipython",
    "version": 3
   },
   "file_extension": ".py",
   "mimetype": "text/x-python",
   "name": "python",
   "nbconvert_exporter": "python",
   "pygments_lexer": "ipython3",
   "version": "3.12.4"
  }
 },
 "nbformat": 4,
 "nbformat_minor": 5
}
